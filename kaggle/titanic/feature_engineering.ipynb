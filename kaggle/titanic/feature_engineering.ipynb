{
  "cells": [
    {
      "execution_count": null,
      "cell_type": "markdown",
      "outputs": [],
      "source": "## Introduction ##\n\nThis is my first work of machine learning. the notebook is written in python and has inspired from [\"Exploring Survival on Titanic\" by Megan Risdal, a Kernel in R on Kaggle][1].\n\n\n  [1]: https://www.kaggle.com/mrisdal/titanic/exploring-survival-on-the-titanic",
      "metadata": {
        "_uuid": "030a767253d4ebcc5a488c8b7cc6adac00a03389",
        "_cell_guid": "25b1e1db-8bc5-7029-f719-91da523bd121"
      }
    },
    {
      "execution_count": null,
      "cell_type": "code",
      "outputs": [],
      "source": "%matplotlib inline\nimport numpy as np\nimport pandas as pd\nimport re as re\n\ntrain = pd.read_csv('../input/train.csv', header = 0, dtype={'Age': np.float64})\ntest  = pd.read_csv('../input/test.csv' , header = 0, dtype={'Age': np.float64})\nfull_data = [train, test]\n\nprint (train.info())",
      "metadata": {
        "_uuid": "e428bec8991267ba0fbba66bb2e694ad3d5b70e4",
        "_cell_guid": "2ce68358-02ec-556d-ba88-e773a50bc18b",
        "trusted": false
      }
    },
    {
      "execution_count": null,
      "cell_type": "markdown",
      "outputs": [],
      "source": "# Feature Engineering #",
      "metadata": {
        "_uuid": "91a0d6704be1bf9e1183efc9eb32fc3d1c1a34ed",
        "_cell_guid": "f9595646-65c9-6fc4-395f-0befc4d122ce"
      }
    },
    {
      "execution_count": null,
      "cell_type": "markdown",
      "outputs": [],
      "source": "## 1. Pclass ##\nthere is no missing value on this feature and already a numerical value. so let's check it's impact on our train set.",
      "metadata": {
        "_uuid": "ee6680ca209d0ba31165350ce839f5fa3a6f2e22",
        "_cell_guid": "9b4c278b-aaca-e92c-ba77-b9b48379d1f1"
      }
    },
    {
      "execution_count": null,
      "cell_type": "code",
      "outputs": [],
      "source": "print (train[['Pclass', 'Survived']].groupby(['Pclass'], as_index=False).mean())",
      "metadata": {
        "_uuid": "ecfad5758e70eab19854309923f30f318d23e7ea",
        "_cell_guid": "4680d950-cf7d-a6ae-e813-535e2247d88e",
        "trusted": false
      }
    },
    {
      "execution_count": null,
      "cell_type": "markdown",
      "outputs": [],
      "source": "## 2. Sex ##",
      "metadata": {
        "_uuid": "11a492d8797deb49b8fb3140365f5ed8de44bb4f",
        "_cell_guid": "5e70f81c-d4e2-1823-f0ba-a7c9b46984ff"
      }
    },
    {
      "execution_count": null,
      "cell_type": "code",
      "outputs": [],
      "source": "print (train[[\"Sex\", \"Survived\"]].groupby(['Sex'], as_index=False).mean())",
      "metadata": {
        "_uuid": "88200ccc3b5b2a324bd1eb17c6ca6c45bef9790b",
        "_cell_guid": "6729681d-7915-1631-78d2-ddf3c35a424c",
        "trusted": false
      }
    },
    {
      "execution_count": null,
      "cell_type": "markdown",
      "outputs": [],
      "source": "## 3. SibSp and Parch ##\nWith the number of siblings/spouse and the number of children/parents we can create new feature called Family Size.",
      "metadata": {
        "_uuid": "ba825a48f86c25960391526f6363d2415d7552a4",
        "_cell_guid": "7c58b7ee-d6a1-0cc9-2346-81c47846a54a"
      }
    },
    {
      "execution_count": null,
      "cell_type": "code",
      "outputs": [],
      "source": "for dataset in full_data:\n    dataset['FamilySize'] = dataset['SibSp'] + dataset['Parch'] + 1\nprint (train[['FamilySize', 'Survived']].groupby(['FamilySize'], as_index=False).mean())",
      "metadata": {
        "_uuid": "14e63227505204e65a6217050d3030e9446abb09",
        "_cell_guid": "1a537f10-7cec-d0b7-8a34-fa9975655190",
        "trusted": false
      }
    },
    {
      "execution_count": null,
      "cell_type": "markdown",
      "outputs": [],
      "source": "it seems has a good effect on our prediction but let's go further and categorize people to check whether they are alone in this ship or not.",
      "metadata": {
        "_uuid": "e41285cb76de744916092c9c0c5b8b88304479c2",
        "_cell_guid": "e4861d3e-10db-1a23-8728-44e4d5251844"
      }
    },
    {
      "execution_count": null,
      "cell_type": "code",
      "outputs": [],
      "source": "for dataset in full_data:\n    dataset['IsAlone'] = 0\n    dataset.loc[dataset['FamilySize'] == 1, 'IsAlone'] = 1\nprint (train[['IsAlone', 'Survived']].groupby(['IsAlone'], as_index=False).mean())",
      "metadata": {
        "_uuid": "7decb324ead42b742a19e2801d0e43787b3c6e44",
        "_cell_guid": "8c35e945-c928-e3bc-bd9c-d6ddb287e4c9",
        "trusted": false
      }
    },
    {
      "execution_count": null,
      "cell_type": "markdown",
      "outputs": [],
      "source": "good! the impact is considerable.",
      "metadata": {
        "_uuid": "f93d26a90782422b73885d8d052c494623aba6df",
        "_cell_guid": "2780ca4e-7923-b845-0b6b-5f68a45f6b93"
      }
    },
    {
      "execution_count": null,
      "cell_type": "markdown",
      "outputs": [],
      "source": "## 4. Embarked ##\nthe embarked feature has some missing value. and we try to fill those with the most occurred value ( 'S' ).",
      "metadata": {
        "_uuid": "025485cc3bbee94a8019ea474c7c87c6717c88de",
        "_cell_guid": "8aa419c0-6614-7efc-7797-97f4a5158b19"
      }
    },
    {
      "execution_count": null,
      "cell_type": "code",
      "outputs": [],
      "source": "for dataset in full_data:\n    dataset['Embarked'] = dataset['Embarked'].fillna('S')\nprint (train[['Embarked', 'Survived']].groupby(['Embarked'], as_index=False).mean())",
      "metadata": {
        "_uuid": "daba0dea691066e7182520a8fa0caa5d76f5b913",
        "_cell_guid": "0e70e9af-d7cc-8c40-b7d4-2643889c376d",
        "trusted": false
      }
    },
    {
      "execution_count": null,
      "cell_type": "markdown",
      "outputs": [],
      "source": "## 5. Fare ##\nFare also has some missing value and we will replace it with the median. then we categorize it into 4 ranges.",
      "metadata": {
        "_uuid": "64968f99a1830361bddd5b21afbe7ee496af55d0",
        "_cell_guid": "e08c9ee8-d6d1-99b7-38bd-f0042c18a5d9"
      }
    },
    {
      "execution_count": null,
      "cell_type": "code",
      "outputs": [],
      "source": "for dataset in full_data:\n    dataset['Fare'] = dataset['Fare'].fillna(train['Fare'].median())\ntrain['CategoricalFare'] = pd.qcut(train['Fare'], 4)\nprint (train[['CategoricalFare', 'Survived']].groupby(['CategoricalFare'], as_index=False).mean())",
      "metadata": {
        "_uuid": "7a81f78b58c26e5ebe1d5505cdd65385fe31a26d",
        "_cell_guid": "a21335bd-4e8d-66e8-e6a5-5d2173b72d3b",
        "trusted": false
      }
    },
    {
      "execution_count": null,
      "cell_type": "markdown",
      "outputs": [],
      "source": "## 6. Age ##\nwe have plenty of missing values in this feature. # generate random numbers between (mean - std) and (mean + std).\nthen we categorize age into 5 range.",
      "metadata": {
        "_uuid": "75690217b8e6527aa6b845e308c2d38062feddb4",
        "_cell_guid": "ec8d1b22-a95f-9f16-77ab-7b60d2103852"
      }
    },
    {
      "execution_count": null,
      "cell_type": "code",
      "outputs": [],
      "source": "for dataset in full_data:\n    age_avg \t   = dataset['Age'].mean()\n    age_std \t   = dataset['Age'].std()\n    age_null_count = dataset['Age'].isnull().sum()\n    \n    age_null_random_list = np.random.randint(age_avg - age_std, age_avg + age_std, size=age_null_count)\n    dataset['Age'][np.isnan(dataset['Age'])] = age_null_random_list\n    dataset['Age'] = dataset['Age'].astype(int)\n    \ntrain['CategoricalAge'] = pd.cut(train['Age'], 5)\n\nprint (train[['CategoricalAge', 'Survived']].groupby(['CategoricalAge'], as_index=False).mean())",
      "metadata": {
        "_uuid": "3426c0df5827576ad4584bb33d2d2305732a5dfa",
        "_cell_guid": "b90c2870-ce5d-ae0e-a33d-59e35445500e",
        "trusted": false
      }
    },
    {
      "execution_count": null,
      "cell_type": "markdown",
      "outputs": [],
      "source": "## 7. Name ##\ninside this feature we can find the title of people.",
      "metadata": {
        "_uuid": "dae2ca7e234179037cc4003bce6219f5083df616",
        "_cell_guid": "bd25ec3f-b601-c1cc-d701-991fac1621f9"
      }
    },
    {
      "execution_count": null,
      "cell_type": "code",
      "outputs": [],
      "source": "def get_title(name):\n\ttitle_search = re.search(' ([A-Za-z]+)\\.', name)\n\t# If the title exists, extract and return it.\n\tif title_search:\n\t\treturn title_search.group(1)\n\treturn \"\"\n\nfor dataset in full_data:\n    dataset['Title'] = dataset['Name'].apply(get_title)\n\nprint(pd.crosstab(train['Title'], train['Sex']))",
      "metadata": {
        "_uuid": "e798669d2987103d969a12a4a7bf8349df7579db",
        "_cell_guid": "ad042f43-bfe0-ded0-4171-379d8caaa749",
        "trusted": false
      }
    },
    {
      "execution_count": null,
      "cell_type": "markdown",
      "outputs": [],
      "source": " so we have titles. let's categorize it and check the title impact on survival rate.",
      "metadata": {
        "_uuid": "a956ff2954ed990fbc78f5480ae6bbedaca4d961",
        "_cell_guid": "ca5fff8c-7a0d-6c18-2173-b8df6293c50a"
      }
    },
    {
      "execution_count": null,
      "cell_type": "code",
      "outputs": [],
      "source": "for dataset in full_data:\n    dataset['Title'] = dataset['Title'].replace(['Lady', 'Countess','Capt', 'Col',\\\n \t'Don', 'Dr', 'Major', 'Rev', 'Sir', 'Jonkheer', 'Dona'], 'Rare')\n\n    dataset['Title'] = dataset['Title'].replace('Mlle', 'Miss')\n    dataset['Title'] = dataset['Title'].replace('Ms', 'Miss')\n    dataset['Title'] = dataset['Title'].replace('Mme', 'Mrs')\n\nprint (train[['Title', 'Survived']].groupby(['Title'], as_index=False).mean())",
      "metadata": {
        "_uuid": "8ddedb83f4785530d1f976b5e8aa02d3226493ef",
        "_cell_guid": "8357238b-98fe-632a-acd5-33674a6132ce",
        "trusted": false
      }
    },
    {
      "execution_count": null,
      "cell_type": "markdown",
      "outputs": [],
      "source": "# Data Cleaning #\ngreat! now let's clean our data and map our features into numerical values.",
      "metadata": {
        "_uuid": "0b17603291dd503e65bc609b02501f7e7f29981f",
        "_cell_guid": "68fa2057-e27a-e252-0d1b-869c00a303ba"
      }
    },
    {
      "execution_count": null,
      "cell_type": "code",
      "outputs": [],
      "source": "for dataset in full_data:\n    # Mapping Sex\n    dataset['Sex'] = dataset['Sex'].map( {'female': 0, 'male': 1} ).astype(int)\n    \n    # Mapping titles\n    title_mapping = {\"Mr\": 1, \"Miss\": 2, \"Mrs\": 3, \"Master\": 4, \"Rare\": 5}\n    dataset['Title'] = dataset['Title'].map(title_mapping)\n    dataset['Title'] = dataset['Title'].fillna(0)\n    \n    # Mapping Embarked\n    dataset['Embarked'] = dataset['Embarked'].map( {'S': 0, 'C': 1, 'Q': 2} ).astype(int)\n    \n    # Mapping Fare\n    dataset.loc[ dataset['Fare'] <= 7.91, 'Fare'] \t\t\t\t\t\t        = 0\n    dataset.loc[(dataset['Fare'] > 7.91) & (dataset['Fare'] <= 14.454), 'Fare'] = 1\n    dataset.loc[(dataset['Fare'] > 14.454) & (dataset['Fare'] <= 31), 'Fare']   = 2\n    dataset.loc[ dataset['Fare'] > 31, 'Fare'] \t\t\t\t\t\t\t        = 3\n    dataset['Fare'] = dataset['Fare'].astype(int)\n    \n    # Mapping Age\n    dataset.loc[ dataset['Age'] <= 16, 'Age'] \t\t\t\t\t       = 0\n    dataset.loc[(dataset['Age'] > 16) & (dataset['Age'] <= 32), 'Age'] = 1\n    dataset.loc[(dataset['Age'] > 32) & (dataset['Age'] <= 48), 'Age'] = 2\n    dataset.loc[(dataset['Age'] > 48) & (dataset['Age'] <= 64), 'Age'] = 3\n    dataset.loc[ dataset['Age'] > 64, 'Age']                           = 4\n\n# Feature Selection\ndrop_elements = ['PassengerId', 'Name', 'Ticket', 'Cabin', 'SibSp',\\\n                 'Parch', 'FamilySize']\ntrain = train.drop(drop_elements, axis = 1)\ntrain = train.drop(['CategoricalAge', 'CategoricalFare'], axis = 1)\n\ntest  = test.drop(drop_elements, axis = 1)\n\nprint (train.head(10))\n\ntrain = train.values\ntest  = test.values",
      "metadata": {
        "_uuid": "a5d1cf7e05fc37ac382324c34574263728fb4aa2",
        "_cell_guid": "2502bb70-ce6f-2497-7331-7d1f80521470",
        "trusted": false
      }
    },
    {
      "execution_count": null,
      "cell_type": "markdown",
      "outputs": [],
      "source": "good! now we have a clean dataset and ready to predict. let's find which classifier works better on this dataset. ",
      "metadata": {
        "_uuid": "36264851a52b8c50bed5d89a39efa1e4baf07af5",
        "_cell_guid": "8aaaf2bc-e282-79cc-008a-e2e801b51b07"
      }
    },
    {
      "execution_count": null,
      "cell_type": "markdown",
      "outputs": [],
      "source": "# Classifier Comparison #",
      "metadata": {
        "_uuid": "329f448e37bcf7c8745342dd18efcd0d1e85f19e",
        "_cell_guid": "23b55b45-572b-7276-32e7-8f7a0dcfd25e"
      }
    },
    {
      "execution_count": null,
      "cell_type": "code",
      "outputs": [],
      "source": "import matplotlib.pyplot as plt\nimport seaborn as sns\n\nfrom sklearn.model_selection import StratifiedShuffleSplit\nfrom sklearn.metrics import accuracy_score, log_loss\nfrom sklearn.neighbors import KNeighborsClassifier\nfrom sklearn.svm import SVC\nfrom sklearn.tree import DecisionTreeClassifier\nfrom sklearn.ensemble import RandomForestClassifier, AdaBoostClassifier, GradientBoostingClassifier\nfrom sklearn.naive_bayes import GaussianNB\nfrom sklearn.discriminant_analysis import LinearDiscriminantAnalysis, QuadraticDiscriminantAnalysis\nfrom sklearn.linear_model import LogisticRegression\n\nclassifiers = [\n    KNeighborsClassifier(3),\n    SVC(probability=True),\n    DecisionTreeClassifier(),\n    RandomForestClassifier(),\n\tAdaBoostClassifier(),\n    GradientBoostingClassifier(),\n    GaussianNB(),\n    LinearDiscriminantAnalysis(),\n    QuadraticDiscriminantAnalysis(),\n    LogisticRegression()]\n\nlog_cols = [\"Classifier\", \"Accuracy\"]\nlog \t = pd.DataFrame(columns=log_cols)\n\nsss = StratifiedShuffleSplit(n_splits=10, test_size=0.1, random_state=0)\n\nX = train[0::, 1::]\ny = train[0::, 0]\n\nacc_dict = {}\n\nfor train_index, test_index in sss.split(X, y):\n\tX_train, X_test = X[train_index], X[test_index]\n\ty_train, y_test = y[train_index], y[test_index]\n\t\n\tfor clf in classifiers:\n\t\tname = clf.__class__.__name__\n\t\tclf.fit(X_train, y_train)\n\t\ttrain_predictions = clf.predict(X_test)\n\t\tacc = accuracy_score(y_test, train_predictions)\n\t\tif name in acc_dict:\n\t\t\tacc_dict[name] += acc\n\t\telse:\n\t\t\tacc_dict[name] = acc\n\nfor clf in acc_dict:\n\tacc_dict[clf] = acc_dict[clf] / 10.0\n\tlog_entry = pd.DataFrame([[clf, acc_dict[clf]]], columns=log_cols)\n\tlog = log.append(log_entry)\n\nplt.xlabel('Accuracy')\nplt.title('Classifier Accuracy')\n\nsns.set_color_codes(\"muted\")\nsns.barplot(x='Accuracy', y='Classifier', data=log, color=\"b\")",
      "metadata": {
        "_uuid": "4929b3b40752366874bc751b238452d5ad6b1a56",
        "_cell_guid": "31ded30a-8de4-6507-e7f7-5805a0f1eaf1",
        "trusted": false
      }
    },
    {
      "execution_count": null,
      "cell_type": "markdown",
      "outputs": [],
      "source": "# Prediction #\nnow we can use SVC classifier to predict our data.",
      "metadata": {
        "_uuid": "0d02332b3269ccdf1e0d48b701d7183de2518abb",
        "_cell_guid": "438585cf-b7ad-73ba-49aa-87688ff21233"
      }
    },
    {
      "execution_count": null,
      "cell_type": "code",
      "outputs": [],
      "source": "candidate_classifier = SVC()\ncandidate_classifier.fit(train[0::, 1::], train[0::, 0])\nresult = candidate_classifier.predict(test)",
      "metadata": {
        "_uuid": "38b13500eb5dbfa7fd2fbb189ddf1699ab0ce10a",
        "_cell_guid": "24967b57-732b-7180-bfd5-005beff75974",
        "trusted": false
      }
    }
  ],
  "nbformat": 4,
  "metadata": {
    "language_info": {
      "name": "python",
      "version": "3.6.1",
      "mimetype": "text/x-python",
      "codemirror_mode": {
        "name": "ipython",
        "version": 3
      },
      "pygments_lexer": "ipython3",
      "nbconvert_exporter": "python",
      "file_extension": ".py"
    },
    "kernelspec": {
      "display_name": "Python 3",
      "language": "python",
      "name": "python3"
    },
    "_change_revision": 0,
    "_is_fork": false
  },
  "nbformat_minor": 0
}